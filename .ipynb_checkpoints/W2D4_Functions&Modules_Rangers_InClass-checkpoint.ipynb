{
 "cells": [
  {
   "cell_type": "markdown",
   "metadata": {},
   "source": [
    "# User-Defined Functions & Scoping"
   ]
  },
  {
   "cell_type": "markdown",
   "metadata": {},
   "source": [
    "## Tasks Today:\n",
    "\n",
    "\n",
    "1) Functions <br>\n",
    " &nbsp;&nbsp;&nbsp;&nbsp; a) User-Defined vs. Built-In Functions <br>\n",
    " &nbsp;&nbsp;&nbsp;&nbsp; b) Accepting Parameters <br>\n",
    " &nbsp;&nbsp;&nbsp;&nbsp; c) Default Parameters <br>\n",
    " &nbsp;&nbsp;&nbsp;&nbsp; d) Making an Argument Optional <br>\n",
    " &nbsp;&nbsp;&nbsp;&nbsp; e) Keyword Arguments <br>\n",
    " &nbsp;&nbsp;&nbsp;&nbsp; f) Returning Values <br>\n",
    " &nbsp;&nbsp;&nbsp;&nbsp; g) *args <br>\n",
    " &nbsp;&nbsp;&nbsp;&nbsp; h) Docstring <br>\n",
    " &nbsp;&nbsp;&nbsp;&nbsp; i) Using a User Function in a Loop <br>\n",
    "2) Scope\n",
    "3) Creating more User-Defined functions \n",
    "4) Modules <br>\n",
    " &nbsp;&nbsp;&nbsp;&nbsp; a) Importing Entire Modules <br>\n",
    " &nbsp;&nbsp;&nbsp;&nbsp; b) Importing Methods Only <br>\n",
    " &nbsp;&nbsp;&nbsp;&nbsp; c) Using the 'as' Keyword <br>\n",
    " &nbsp;&nbsp;&nbsp;&nbsp; d) Creating a Module <br>"
   ]
  },
  {
   "cell_type": "markdown",
   "metadata": {},
   "source": [
    "\n",
    "## Functions"
   ]
  },
  {
   "cell_type": "markdown",
   "metadata": {},
   "source": [
    "##### User-Defined vs. Built-In Functions"
   ]
  },
  {
   "cell_type": "code",
   "execution_count": 10,
   "metadata": {},
   "outputs": [
    {
     "name": "stdout",
     "output_type": "stream",
     "text": [
      "Hello\n",
      "HELLO AGAIN\n",
      "variable storing the output of say_hello(): Hello\n"
     ]
    }
   ],
   "source": [
    "# built-in function\n",
    "# print(\"hello\")\n",
    "# max()\n",
    "# min()\n",
    "\n",
    "# user defined function\n",
    "# def keyword function_name():\n",
    "def say_hello():\n",
    "#   return gives function a tangible output\n",
    "    return \"Hello\"\n",
    "# calling a function\n",
    "# function_name()\n",
    "# always make sure to add paratheses when making a funtion call\n",
    "say_hello()\n",
    "\n",
    "# printing a function call\n",
    "print(say_hello())\n",
    "\n",
    "# user defined function\n",
    "def say_hello_again():\n",
    "    return \"hello again\"\n",
    "# using a built in function on the return of a user defined funtion\n",
    "print(say_hello_again().upper())\n",
    "\n",
    "# difference between print and return\n",
    "def third_hello():\n",
    "    print(\"hello a third time\")\n",
    "# cannot call built-in functions on a function that prints because there is no output\n",
    "# third_hello().upper()\n",
    "\n",
    "# storing the return of a function to a variable\n",
    "hello = say_hello()\n",
    "print(\"variable storing the output of say_hello():\", hello)"
   ]
  },
  {
   "cell_type": "markdown",
   "metadata": {},
   "source": [
    "##### Accepting Parameters"
   ]
  },
  {
   "cell_type": "code",
   "execution_count": 15,
   "metadata": {
    "scrolled": true
   },
   "outputs": [
    {
     "name": "stdout",
     "output_type": "stream",
     "text": [
      "odd\n",
      "the weather is kinda gross here today\n",
      "4\n",
      "[1, 2, 3, 4, 'hello', 'goodbye']\n",
      "The ferrari is very copacetic while it busts\n"
     ]
    }
   ],
   "source": [
    "# elements passed into a function\n",
    "# variables to hold the place of items our function will act upon\n",
    "# order matters\n",
    "# a parameter can be of any object type (data type)\n",
    "\n",
    "num = 6\n",
    "if num & 2 == 0:\n",
    "    print(\"even\")\n",
    "else:\n",
    "    print(\"odd\")\n",
    "                    # parameter\n",
    "def return_something(anything):\n",
    "            # acting unpon that parameter\n",
    "    return anything\n",
    "                        # argument is the object we pass into the function\n",
    "print(return_something(\"the weather is kinda gross here today\"))\n",
    "                       # argument\n",
    "print(return_something(4))\n",
    "                        # argument\n",
    "print(return_something([1, 2, 3, 4, \"hello\", \"goodbye\"]))\n",
    "\n",
    "def make_sentence(noun, adjective, verb):\n",
    "    return f\"The {noun} is very {adjective} while it {verb}\"\n",
    "print(make_sentence(\"ferrari\", \"copacetic\", \"busts\"))\n",
    "\n",
    "# order of arguments matters\n",
    "# def add_and_lenght(num, string):\n",
    "#    return num+1, len(string)\n",
    "# print(add_and_lenght(5, \"hello\"))\n",
    "\n"
   ]
  },
  {
   "cell_type": "markdown",
   "metadata": {},
   "source": [
    "##### Default Parameters"
   ]
  },
  {
   "cell_type": "code",
   "execution_count": 17,
   "metadata": {},
   "outputs": [
    {
     "name": "stdout",
     "output_type": "stream",
     "text": [
      "The name is Bond.... James Bond\n",
      "The name is Jenkins.... Leroy Jenkins\n"
     ]
    }
   ],
   "source": [
    "# default parameters must always come after non-default parameters at all times forever and ever...or else\n",
    "                                        # default parameter\n",
    "def agent_name(first_name, last_name = \"Bond\"):\n",
    "     return f\"The name is {last_name}.... {first_name} {last_name}\"\n",
    "# the default parameter is used when that parameter is not fulfilled positionally by an argument\n",
    "print(agent_name(\"James\"))\n",
    "print(agent_name(last_name=\"Jenkins\", first_name=\"Leroy\"))\n",
    "    "
   ]
  },
  {
   "cell_type": "code",
   "execution_count": 19,
   "metadata": {},
   "outputs": [
    {
     "name": "stdout",
     "output_type": "stream",
     "text": [
      "Alex's birthday is January 21....happy birthday on that month and day!\n"
     ]
    }
   ],
   "source": [
    "# default parameters must always come after non-default parameters at all times forever and ever...or else\n",
    "def birthday_month(day, month=\"January\"):\n",
    "    return f\"Alex's birthday is {month} {day}....happy birthday on that month and day!\"\n",
    "print(birthday_month(21))\n",
    "\n"
   ]
  },
  {
   "cell_type": "markdown",
   "metadata": {},
   "source": [
    "##### Making an Argument Optional"
   ]
  },
  {
   "cell_type": "code",
   "execution_count": 24,
   "metadata": {},
   "outputs": [
    {
     "name": "stdout",
     "output_type": "stream",
     "text": [
      "Hello Ryan Rhoades\n",
      "Hello Ryan Rhoades Allen\n"
     ]
    }
   ],
   "source": [
    "def print_full_name(first, last, middle = \"\"):\n",
    "     if middle == '':\n",
    "         return f\"Hello {first} {last}\"\n",
    "     return f\"Hello {first} {middle} {last}\"\n",
    "print(print_full_name(\"Ryan\", \"Rhoades\"))\n",
    "print(print_full_name(\"Ryan\", \"Allen\", \"Rhoades\"))"
   ]
  },
  {
   "cell_type": "markdown",
   "metadata": {},
   "source": [
    "##### Keyword Arguments"
   ]
  },
  {
   "cell_type": "code",
   "execution_count": 26,
   "metadata": {},
   "outputs": [
    {
     "name": "stdout",
     "output_type": "stream",
     "text": [
      "batman's power is money and their secret identity is Bruce Wayne\n"
     ]
    }
   ],
   "source": [
    "#keyword arguments must follow positional arugments\n",
    "            #  parameter1, parameter2, default parameter\n",
    "def print_hero(name, secret_identity, power=\"flying\"):\n",
    "     return f\"{name}'s power is {power} and their secret identity is {secret_identity}\"\n",
    "\n",
    "# print(print_hero(\"Batman\", \"Bruce Wayne\", power=\"money\"))\n",
    "print(print_hero(power=\"money\", name=\"batman\", secret_identity=\"Bruce Wayne\"))\n"
   ]
  },
  {
   "cell_type": "code",
   "execution_count": 28,
   "metadata": {},
   "outputs": [
    {
     "name": "stdout",
     "output_type": "stream",
     "text": [
      "These are our favorite colors: yellow, magenta, green\n"
     ]
    }
   ],
   "source": [
    "def print_color(color1, color2, color3):\n",
    "    return f\"These are our favorite colors: {color1}, {color2}, {color3}\"\n",
    "print(print_color(color1 = \"yellow\", color3 = \"green\", color2 = \"magenta\"))"
   ]
  },
  {
   "cell_type": "markdown",
   "metadata": {},
   "source": [
    "# Creating a start, stop, step function"
   ]
  },
  {
   "cell_type": "code",
   "execution_count": 33,
   "metadata": {
    "scrolled": true
   },
   "outputs": [
    {
     "name": "stdout",
     "output_type": "stream",
     "text": [
      "5\n",
      "8\n",
      "11\n",
      "14\n",
      "17\n",
      "Hey great job, youre beautiful\n"
     ]
    }
   ],
   "source": [
    "# range (stop, start=0, step=1)\n",
    "def my_range(stop, start=0, step=1):\n",
    "    for i in range(start, stop, step):\n",
    "        print(i)\n",
    "    return \"Hey great job, youre beautiful\"\n",
    "print(my_range(20, 5, 3))"
   ]
  },
  {
   "cell_type": "code",
   "execution_count": 37,
   "metadata": {},
   "outputs": [
    {
     "name": "stdout",
     "output_type": "stream",
     "text": [
      "[4, 16, 36, 64]\n",
      "[9, 25, 49, 81]\n",
      "[100, 225, 400, 625]\n"
     ]
    }
   ],
   "source": [
    "# output a new list witch each number from nums_list squared\n",
    "nums_list = [2, 4, 6, 8]\n",
    "nums_list2 =  [3, 5, 7, 9]\n",
    "nums_list3 = [10, 15, 20, 25]\n",
    "\n",
    "def square_nums(a_list):\n",
    "    square_list = []\n",
    "    for num in a_list:\n",
    "        square_list.append(num**2)\n",
    "    return square_list\n",
    "print(square_nums(nums_list))\n",
    "print(square_nums(nums_list2))\n",
    "print(square_nums(nums_list3))"
   ]
  },
  {
   "cell_type": "markdown",
   "metadata": {},
   "source": [
    "##### Returning Values"
   ]
  },
  {
   "cell_type": "code",
   "execution_count": 39,
   "metadata": {},
   "outputs": [
    {
     "name": "stdout",
     "output_type": "stream",
     "text": [
      "Bulba Bulba\n"
     ]
    }
   ],
   "source": [
    "poke_list = [\"Charmander\", \"Squirtle\", \"Cyndaquil\", \"Bulbasaur\", \"Chikorita\"]\n",
    "def find_a_bulbasaur(arr):\n",
    "    for poke in arr:\n",
    "        if poke == \"Bulbasaur\":\n",
    "            return \"Bulba Bulba\"\n",
    "    return \"No Bulbasaur, sad\"\n",
    "\n",
    "print(find_a_bulbasaur(poke_list))"
   ]
  },
  {
   "cell_type": "code",
   "execution_count": 40,
   "metadata": {},
   "outputs": [
    {
     "data": {
      "text/plain": [
       "'You caught a Bulbasaur!'"
      ]
     },
     "execution_count": 40,
     "metadata": {},
     "output_type": "execute_result"
    }
   ],
   "source": [
    "def is_bulbasaur(string):\n",
    "    if string == \"Bulba Bulba\":\n",
    "         return \"You caught a Bulbasaur!\"\n",
    "    return \"Oh! the Bulbasaur appeared to be caught\"\n",
    "is_bulbasaur(find_a_bulbasaur(poke_list))"
   ]
  },
  {
   "cell_type": "markdown",
   "metadata": {},
   "source": [
    "##### *args / **kwargs (keyword arguments)"
   ]
  },
  {
   "cell_type": "code",
   "execution_count": 45,
   "metadata": {},
   "outputs": [
    {
     "name": "stdout",
     "output_type": "stream",
     "text": [
      "('Apple', 'Banana', 'Grape', 'Strawberry')\n",
      "Apple\n",
      "Banana\n",
      "Grape\n",
      "Strawberry\n"
     ]
    }
   ],
   "source": [
    "#*args, **kwargs\n",
    "# *args stands for arguments and will allow the function to take in any number of arguments\n",
    "# **kwargs stands for key word arguments and will allow the function to take in any number of keyword arguments\n",
    "# if other parameters are present, args and kwarfs must go last\n",
    "\n",
    "def print_args(*args):\n",
    "    print(args)\n",
    "    for fruit in args:\n",
    "        print(fruit)\n",
    "\n",
    "\n",
    "print_args(\"Apple\", \"Banana\", \"Grape\", \"Strawberry\")\n"
   ]
  },
  {
   "cell_type": "code",
   "execution_count": 50,
   "metadata": {},
   "outputs": [
    {
     "name": "stdout",
     "output_type": "stream",
     "text": [
      "{'Charmander': 'fire', 'Squirtle': 'water', 'Bulbasaur': 'grass'}\n",
      "Charmander is a fire type\n",
      "Squirtle is a water type\n",
      "Bulbasaur is a grass type\n"
     ]
    }
   ],
   "source": [
    "# **kwargs stands for key word arguments and will allow the function to take in any number of keyword arguments\n",
    "def print_kwargs(**kwargs):\n",
    "    print(kwargs)\n",
    "    for poke, poke_type in kwargs.items():\n",
    "            print(f\"{poke} is a {poke_type} type\")\n",
    "print_kwargs(Charmander = \"fire\", Squirtle = \"water\", Bulbasaur = \"grass\")"
   ]
  },
  {
   "cell_type": "code",
   "execution_count": 52,
   "metadata": {},
   "outputs": [
    {
     "name": "stdout",
     "output_type": "stream",
     "text": [
      "These are my positional arguments (parameters): 1 2 3\n",
      "This is any number of args: ('Apple', 'Banana', 'Grape', 'Strawberry')\n",
      "This is any number of kwargs: {'Charmander': 'fire', 'Squirtle': 'water', 'Bulbasaur': 'grass'}\n"
     ]
    }
   ],
   "source": [
    "# if other parameters are present, args and kwargs must go last\n",
    "\n",
    "def print_everything(num1, num2, num3, *args, **kwargs):\n",
    "    print(\"These are my positional arguments (parameters):\", num1, num2, num3)\n",
    "    print(\"This is any number of args:\", args)\n",
    "    print(\"This is any number of kwargs:\", kwargs)\n",
    "\n",
    "print_everything(1, 2, 3, \"Apple\", \"Banana\", \"Grape\", \"Strawberry\", Charmander = \"fire\", Squirtle = \"water\", Bulbasaur = \"grass\")\n",
    "    "
   ]
  },
  {
   "cell_type": "markdown",
   "metadata": {},
   "source": [
    "##### Docstring"
   ]
  },
  {
   "cell_type": "code",
   "execution_count": 55,
   "metadata": {},
   "outputs": [
    {
     "name": "stdout",
     "output_type": "stream",
     "text": [
      "Help on built-in function print in module builtins:\n",
      "\n",
      "print(*args, sep=' ', end='\\n', file=None, flush=False)\n",
      "    Prints the values to a stream, or to sys.stdout by default.\n",
      "\n",
      "    sep\n",
      "      string inserted between values, default a space.\n",
      "    end\n",
      "      string appended after the last value, default a newline.\n",
      "    file\n",
      "      a file-like object (stream); defaults to the current sys.stdout.\n",
      "    flush\n",
      "      whether to forcibly flush the stream.\n",
      "\n",
      "Help on function print_names in module __main__:\n",
      "\n",
      "print_names(arr)\n",
      "    print_names(arr)\n",
      "    funtion requires a list to be passed as an argument\n",
      "    it will print contents of the list. the list is expected to contain strings\n",
      "\n"
     ]
    }
   ],
   "source": [
    "# docstrings are a really nice way to leave notes about funciontality in your code\n",
    "# provide instructions\n",
    "def print_names(arr):\n",
    "# docstring is a multiline string \"\"\"     \"\"\"\n",
    "    \"\"\"\n",
    "    print_names(arr)\n",
    "    funtion requires a list to be passed as an argument\n",
    "    it will print contents of the list. the list is expected to contain strings\n",
    "     \n",
    "    \"\"\"\n",
    "    for name in arr:\n",
    "        print(name)\n",
    "\n",
    "help(print)\n",
    "help(print_names)\n",
    "    "
   ]
  },
  {
   "cell_type": "markdown",
   "metadata": {},
   "source": [
    "##### Using a User Function in a Loop"
   ]
  },
  {
   "cell_type": "code",
   "execution_count": 58,
   "metadata": {},
   "outputs": [
    {
     "name": "stdin",
     "output_type": "stream",
     "text": [
      "Whats going on? nothing\n"
     ]
    },
    {
     "name": "stdout",
     "output_type": "stream",
     "text": [
      "This is the output from print_input. Here is what you have goin on: nothing\n"
     ]
    },
    {
     "name": "stdin",
     "output_type": "stream",
     "text": [
      "Are you ready to quit?  quit\n",
      "Whats going on? yes\n"
     ]
    },
    {
     "name": "stdout",
     "output_type": "stream",
     "text": [
      "This is the output from print_input. Here is what you have goin on: yes\n"
     ]
    },
    {
     "name": "stdin",
     "output_type": "stream",
     "text": [
      "Are you ready to quit?  quit\n",
      "Whats going on? yes\n"
     ]
    },
    {
     "name": "stdout",
     "output_type": "stream",
     "text": [
      "This is the output from print_input. Here is what you have goin on: yes\n"
     ]
    },
    {
     "name": "stdin",
     "output_type": "stream",
     "text": [
      "Are you ready to quit?  yes\n"
     ]
    }
   ],
   "source": [
    "def print_input(answer):\n",
    "    print(f\"This is the output from print_input. Here is what you have goin on: {answer}\")\n",
    "\n",
    "while True:\n",
    "    ask = input(\"Whats going on?\")\n",
    "\n",
    "    print_input(ask)\n",
    "\n",
    "    response = input(\"Are you ready to quit? \")\n",
    "    if response.lower() == \"yes\":\n",
    "        break"
   ]
  },
  {
   "cell_type": "code",
   "execution_count": null,
   "metadata": {
    "scrolled": true
   },
   "outputs": [],
   "source": []
  },
  {
   "cell_type": "code",
   "execution_count": null,
   "metadata": {},
   "outputs": [],
   "source": []
  },
  {
   "cell_type": "markdown",
   "metadata": {},
   "source": [
    "## Function Exercises <br>\n",
    "### Exercise 1\n",
    "<p>Write a function that loops through a list of first_names and a list of last_names, combines the two and return a list of full_names</p>"
   ]
  },
  {
   "cell_type": "code",
   "execution_count": null,
   "metadata": {},
   "outputs": [],
   "source": []
  },
  {
   "cell_type": "code",
   "execution_count": 77,
   "metadata": {},
   "outputs": [
    {
     "name": "stdout",
     "output_type": "stream",
     "text": [
      "['John Smith', 'Evan Smith', 'Jordan Williams', 'Max Bell']\n"
     ]
    }
   ],
   "source": [
    "first_name = ['John', 'Evan', 'Jordan', 'Max']\n",
    "last_name = ['Smith', 'Smith', 'Williams', 'Bell']\n",
    "\n",
    "# Output: ['John Smith', 'Evan Smith', 'Jordan Williams', 'Max Bell']\n",
    "\n",
    "def long_names(first_name, last_name):\n",
    "    \n",
    "   \n",
    "    full_names = []\n",
    "    for i in range(len(first_name)):\n",
    "        full_name = f\"{first_name[i]} {last_name[i]}\"\n",
    "        full_names.append(full_name)\n",
    "    return full_names\n",
    "\n",
    "allnames = long_names(first_name, last_name)\n",
    "print(allnames)\n"
   ]
  },
  {
   "cell_type": "markdown",
   "metadata": {},
   "source": [
    "### Exercise 2\n",
    "Create a function that alters all values in the given list by subtracting 5 and then doubling them."
   ]
  },
  {
   "cell_type": "code",
   "execution_count": 80,
   "metadata": {},
   "outputs": [
    {
     "data": {
      "text/plain": [
       "[0, 10, 20, 30, -4]"
      ]
     },
     "execution_count": 80,
     "metadata": {},
     "output_type": "execute_result"
    }
   ],
   "source": [
    "input_list = [5,10,15,20,3]\n",
    "# output = [0,10,20,30,-4]\n",
    "\n",
    "def calc_list(arr):\n",
    "    # calc_list = []\n",
    "    # for num in arr:  \n",
    "    #     final_calc = (num-5)*2\n",
    "    #     calc_list.append(final_calc)\n",
    "    # return calc_list\n",
    "\n",
    "    return[((num-5)*2) for num in arr]\n",
    "calc_list(input_list)\n"
   ]
  },
  {
   "cell_type": "markdown",
   "metadata": {},
   "source": [
    "### Exercise 3\n",
    "Create a function that takes in a list of strings and filters out the strings that DO NOT contain vowels. "
   ]
  },
  {
   "cell_type": "code",
   "execution_count": 81,
   "metadata": {},
   "outputs": [
    {
     "name": "stdout",
     "output_type": "stream",
     "text": [
      "['Sheldon', 'Leonard', 'Amy']\n"
     ]
    }
   ],
   "source": [
    "string_list = ['Sheldon','Pnny','Leonard','Hwrd','Rj','Amy','Strt']\n",
    "# output = ['Sheldon','Leonard','Amy']\n",
    "def vowels_only(lis):\n",
    "    vowels = [\"a\", \"e\", \"i\", \"o\", \"u\"]\n",
    "    cool_names = []\n",
    "    \n",
    "    for name in lis:\n",
    "        for letter in name:\n",
    "            if letter.lower() in vowels:\n",
    "                cool_names.append(name)\n",
    "                break\n",
    "                \n",
    "    return cool_names\n",
    "\n",
    "print(vowels_only(string_list))\n",
    "\n"
   ]
  },
  {
   "cell_type": "code",
   "execution_count": null,
   "metadata": {},
   "outputs": [],
   "source": []
  },
  {
   "cell_type": "code",
   "execution_count": null,
   "metadata": {},
   "outputs": [],
   "source": []
  },
  {
   "cell_type": "markdown",
   "metadata": {},
   "source": [
    "### Exercise 4\n",
    "Create a function that accepts a list as a parameter and returns a dictionary containing the list items as it's keys, and the number of times they appear in the list as the values"
   ]
  },
  {
   "cell_type": "code",
   "execution_count": 82,
   "metadata": {},
   "outputs": [
    {
     "name": "stdout",
     "output_type": "stream",
     "text": [
      "{0: [0], 1: [1], 2: [2], 3: [3], 4: [4], 5: [5], 6: [6]}\n"
     ]
    }
   ],
   "source": [
    "example_list = [\"Harry\", 'Hermione','Harry','Ron','Dobby','Draco','Luna','Harry','Hermione','Ron','Ron','Ron']\n",
    "\n",
    "# output = {\n",
    "#     \"Harry\":3,\n",
    "#     \"Hermione\":2,\n",
    "#     \"Ron\":4,\n",
    "#     \"Dobby\":1,\n",
    "#     \"Draco\":1,\n",
    "#     \"Luna\": 1\n",
    "# }\n"
   ]
  },
  {
   "cell_type": "markdown",
   "metadata": {},
   "source": [
    "\n",
    "\n",
    "## Scope <br>\n",
    "<p>Scope refers to the ability to access variables, different types of scope include:<br>a) Global<br>b) Function (local)<br>c) Class (local)</p>"
   ]
  },
  {
   "cell_type": "code",
   "execution_count": 87,
   "metadata": {},
   "outputs": [
    {
     "name": "stdout",
     "output_type": "stream",
     "text": [
      "3\n",
      "global variable 3\n"
     ]
    }
   ],
   "source": [
    "# placement of variable declaration matters\n",
    "\n",
    "number = 3 # <------- global variable\n",
    "\n",
    "def return_num(num2):\n",
    "    num = num2 # locally scoped function variable\n",
    "    num3 = 5 # locally scoped function variable\n",
    "    return num\n",
    "print(return_num(number))\n",
    "\n",
    "print(\"global variable\", number)\n",
    "\n",
    "# print(num) name \"num\" is not defined. we cant acces variables defined in a function\n",
    "\n"
   ]
  },
  {
   "cell_type": "markdown",
   "metadata": {},
   "source": [
    "## Modules"
   ]
  },
  {
   "cell_type": "markdown",
   "metadata": {},
   "source": [
    "##### Importing Entire Modules\n"
   ]
  },
  {
   "cell_type": "code",
   "execution_count": 92,
   "metadata": {},
   "outputs": [
    {
     "name": "stdout",
     "output_type": "stream",
     "text": [
      "2\n",
      "3\n",
      "3.141592653589793\n",
      "4\n",
      "3.141592653589793\n"
     ]
    }
   ],
   "source": [
    "## Modules\n",
    "\n",
    "import math\n",
    "num = 5\n",
    "num2 = 2\n",
    "num3 = num // num2\n",
    "print(num3)\n",
    "\n",
    "print(math.ceil(num/num2))\n",
    "\n",
    "print(math.pi)\n",
    "\n",
    "print(math.ceil(math.pi))\n",
    "\n",
    "my_pi = math.pi\n",
    "print(my_pi)\n"
   ]
  },
  {
   "cell_type": "markdown",
   "metadata": {},
   "source": [
    "##### Importing Methods Only"
   ]
  },
  {
   "cell_type": "code",
   "execution_count": 95,
   "metadata": {},
   "outputs": [
    {
     "name": "stdout",
     "output_type": "stream",
     "text": [
      "3.141592653589793\n",
      "4\n",
      "66\n"
     ]
    }
   ],
   "source": [
    "# from xxx import yyy\n",
    "#from math import floor\n",
    "\n",
    "from math import floor, pi, ceil\n",
    "\n",
    "print(pi)\n",
    "\n",
    "print(floor(4.8))\n",
    "\n",
    "print(ceil(65.2))\n",
    "\n"
   ]
  },
  {
   "cell_type": "markdown",
   "metadata": {},
   "source": [
    "##### Using the 'as' Keyword"
   ]
  },
  {
   "cell_type": "code",
   "execution_count": 100,
   "metadata": {},
   "outputs": [
    {
     "name": "stdout",
     "output_type": "stream",
     "text": [
      "3.141592653589793\n",
      "3\n",
      "4\n"
     ]
    }
   ],
   "source": [
    "# from xxx import yyy as z\n",
    "\n",
    "from math import pi as p, floor as f, ceil as c\n",
    "\n",
    "print(p)\n",
    "\n",
    "print(f(p))\n",
    "\n",
    "print(c(p))\n"
   ]
  },
  {
   "cell_type": "markdown",
   "metadata": {},
   "source": [
    "##### Creating a Module"
   ]
  },
  {
   "cell_type": "code",
   "execution_count": 102,
   "metadata": {},
   "outputs": [
    {
     "name": "stdout",
     "output_type": "stream",
     "text": [
      "Hello Mr/Ms Ryan...we've been waiting for you!\n"
     ]
    }
   ],
   "source": [
    "from module import printName \n",
    "\n",
    "printName(\"Ryan\")\n",
    "\n",
    "\n",
    "\n"
   ]
  },
  {
   "cell_type": "code",
   "execution_count": null,
   "metadata": {},
   "outputs": [],
   "source": []
  },
  {
   "cell_type": "code",
   "execution_count": null,
   "metadata": {},
   "outputs": [],
   "source": []
  },
  {
   "cell_type": "markdown",
   "metadata": {},
   "source": [
    "# Homework Exercises"
   ]
  },
  {
   "cell_type": "markdown",
   "metadata": {},
   "source": [
    "### 1) Create a Module in VS Code and Import It into jupyter notebook <br>\n",
    "<p><b>Module should have the following capabilities:</b><br><br>\n",
    "1a) Has a function to calculate the square footage of a house <br>\n",
    "    <b>Reminder of Formula: Length X Width == Area</b><br>\n",
    "        <hr>\n",
    "1b) Has a function to calculate the circumference of a circle 2 Pi r <br><br>\n",
    "<b>Program in Jupyter Notebook should take in user input and use imported functions to calculate a circle's circumference or a houses square footage</b>\n",
    "</p>"
   ]
  },
  {
   "cell_type": "code",
   "execution_count": 10,
   "metadata": {},
   "outputs": [
    {
     "name": "stdin",
     "output_type": "stream",
     "text": [
      "Enter length of the house:  30\n",
      "Enter width of the house:  40\n"
     ]
    },
    {
     "name": "stdout",
     "output_type": "stream",
     "text": [
      "Square Footage of the house: 1200.0 square feet\n"
     ]
    },
    {
     "name": "stdin",
     "output_type": "stream",
     "text": [
      "Enter the radius of the circle:  60\n"
     ]
    },
    {
     "name": "stdout",
     "output_type": "stream",
     "text": [
      "Circumference of the circle: 376.99111843077515 units\n"
     ]
    }
   ],
   "source": [
    "from amazingmodule import sqfoot, circ\n",
    "\n",
    "length = int(input(\"Enter length of the house: \"))\n",
    "width = float(input(\"Enter width of the house: \"))\n",
    "squarefootage = sqfoot(length, width)\n",
    "print(f\"Square Footage of the house: {squarefootage} square feet\")\n",
    "\n",
    "radius = float(input(\"Enter the radius of the circle: \"))\n",
    "circumference = circ(radius)\n",
    "print(f\"Circumference of the circle: {circumference} units\")\n",
    "\n",
    "\n",
    "\n"
   ]
  },
  {
   "cell_type": "markdown",
   "metadata": {},
   "source": [
    "### 2) Build a Shopping Cart Function <br>\n",
    "<p><b>You can use either lists or dictionaries. The program should have the following capabilities:</b><br><br>\n",
    "1) Takes in input <br>\n",
    "2) Stores user input into a dictionary or list <br>\n",
    "3) The User can add or delete items <br>\n",
    "4) The User can see current shopping list <br>\n",
    "5) The program Loops until user 'quits' <br>\n",
    "6) Upon quiting the program, print out all items in the user's list <br>\n",
    "</p>"
   ]
  },
  {
   "cell_type": "code",
   "execution_count": 14,
   "metadata": {},
   "outputs": [
    {
     "name": "stdout",
     "output_type": "stream",
     "text": [
      "1. Add fruit\n",
      "2. View cart\n",
      "3. Quit\n"
     ]
    },
    {
     "name": "stdin",
     "output_type": "stream",
     "text": [
      "Enter your choice (1-3): 1\n",
      "Enter fruit name: Oranges\n",
      "Enter the quantity: 2\n"
     ]
    },
    {
     "name": "stdout",
     "output_type": "stream",
     "text": [
      "2 Oranges(s) added to the cart.\n",
      "1. Add fruit\n",
      "2. View cart\n",
      "3. Quit\n"
     ]
    },
    {
     "name": "stdin",
     "output_type": "stream",
     "text": [
      "Enter your choice (1-3): Apples\n"
     ]
    },
    {
     "name": "stdout",
     "output_type": "stream",
     "text": [
      "1. Add fruit\n",
      "2. View cart\n",
      "3. Quit\n"
     ]
    },
    {
     "name": "stdin",
     "output_type": "stream",
     "text": [
      "Enter your choice (1-3): 3\n"
     ]
    },
    {
     "name": "stdout",
     "output_type": "stream",
     "text": [
      "Exit the cart\n"
     ]
    }
   ],
   "source": [
    "def shopping_cart():\n",
    "    cart = {}\n",
    "\n",
    "    while True:\n",
    "        print(\"1. Add fruit\")\n",
    "        print(\"2. View cart\")\n",
    "        print(\"3. Quit\")\n",
    "\n",
    "        choice = input(\"Enter your choice (1-3):\")\n",
    "\n",
    "        if choice == '1':\n",
    "            item = input(\"Enter fruit name:\")\n",
    "            quantity = int(input(\"Enter the quantity:\"))\n",
    "            cart[item] = cart.get(item, 0) + quantity\n",
    "            print(f\"{quantity} {item}(s) added to the cart.\")\n",
    "\n",
    "        elif choice == '2':\n",
    "            print(\"Current Cart\")\n",
    "            for item, quantity in cart.items():\n",
    "                print(f\"{item}: {quantity}\")\n",
    "\n",
    "        elif choice == '3':\n",
    "            print(\"Exit the cart\")\n",
    "            break\n",
    "shopping_cart()\n"
   ]
  },
  {
   "cell_type": "code",
   "execution_count": null,
   "metadata": {},
   "outputs": [],
   "source": []
  }
 ],
 "metadata": {
  "kernelspec": {
   "display_name": "Python 3 (ipykernel)",
   "language": "python",
   "name": "python3"
  },
  "language_info": {
   "codemirror_mode": {
    "name": "ipython",
    "version": 3
   },
   "file_extension": ".py",
   "mimetype": "text/x-python",
   "name": "python",
   "nbconvert_exporter": "python",
   "pygments_lexer": "ipython3",
   "version": "3.12.1"
  }
 },
 "nbformat": 4,
 "nbformat_minor": 4
}
